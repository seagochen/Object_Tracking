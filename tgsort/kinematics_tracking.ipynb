{
 "cells": [
  {
   "cell_type": "code",
   "execution_count": 1,
   "metadata": {},
   "outputs": [
    {
     "name": "stderr",
     "output_type": "stream",
     "text": [
      "C:\\Users\\data\\AppData\\Local\\Temp\\ipykernel_22204\\2758445751.py:4: DeprecationWarning: The module numpy.dual is deprecated.  Instead of using dual, use the functions directly from numpy or scipy.\n",
      "  from numpy.dual import inv\n"
     ]
    }
   ],
   "source": [
    "import cupy as cp\n",
    "from scipy.optimize import linear_sum_assignment\n",
    "from datetime import time\n",
    "from numpy.dual import inv"
   ]
  },
  {
   "cell_type": "markdown",
   "metadata": {},
   "source": [
    "# 1. 中心点の計算"
   ]
  },
  {
   "cell_type": "code",
   "execution_count": 2,
   "metadata": {},
   "outputs": [],
   "source": [
    "def center_pt_batched(bboxes):\n",
    "    # Ensure bboxes is a cupy array\n",
    "    bboxes = cp.array(bboxes) if not isinstance(bboxes, cp.ndarray) else bboxes\n",
    "    \n",
    "    # Return an empty array for no bboxes\n",
    "    if bboxes.size == 0:\n",
    "        return cp.array([])\n",
    "    \n",
    "    # Ensure all points are non-negative\n",
    "    bboxes = cp.clip(bboxes, 0, None)\n",
    "\n",
    "    # If the bbox is a single box, convert it to a 2D array\n",
    "    if len(bboxes.shape) == 1:\n",
    "        bboxes = cp.expand_dims(bboxes, axis=0)\n",
    "    \n",
    "    # Calculate center points\n",
    "    centers_x = (bboxes[:, 0] + bboxes[:, 2]) / 2\n",
    "    centers_y = (bboxes[:, 1] + bboxes[:, 3]) / 2\n",
    "    \n",
    "    # Combine x and y centers into a single array\n",
    "    centers = cp.stack((centers_x, centers_y), axis=-1)\n",
    "    \n",
    "    return centers"
   ]
  },
  {
   "cell_type": "markdown",
   "metadata": {},
   "source": [
    "Unit test"
   ]
  },
  {
   "cell_type": "code",
   "execution_count": 3,
   "metadata": {},
   "outputs": [
    {
     "name": "stdout",
     "output_type": "stream",
     "text": [
      "All tests passed\n"
     ]
    }
   ],
   "source": [
    "# Corrected test cases for center_pt_batched function\n",
    "assert cp.array_equal(center_pt_batched(cp.array([[0, 0, 10, 10]])), cp.array([[5, 5]])), \"Test 1 failed\"\n",
    "assert cp.array_equal(center_pt_batched(cp.array([[-5, -5, 5, 5]])), cp.array([[2.5, 2.5]])), \"Test 2 failed\"\n",
    "assert cp.array_equal(center_pt_batched(cp.array([[0, 0, 0, 0]])), cp.array([[0, 0]])), \"Test 3 failed\"\n",
    "assert cp.array_equal(center_pt_batched(cp.array([[10, 10, 20, 20]])), cp.array([[15, 15]])), \"Test 4 failed\"\n",
    "\n",
    "assert cp.array_equal(center_pt_batched(cp.array([[0, 0, 10, 10], [-5, -5, 5, 5]])), cp.array([[5, 5], [2.5, 2.5]])), \"Test 5 failed\"\n",
    "assert cp.array_equal(center_pt_batched([0, 0, 10, 10]), cp.array([[5, 5]])), \"Test 6 failed\"\n",
    "\n",
    "print(\"All tests passed\")"
   ]
  },
  {
   "cell_type": "markdown",
   "metadata": {},
   "source": [
    "# 2.二点間の距離の測定"
   ]
  },
  {
   "cell_type": "code",
   "execution_count": 4,
   "metadata": {},
   "outputs": [],
   "source": [
    "def distance_pts_batched_matrix(pts1, pts2):\n",
    "    # Ensure pts1 and pts2 are cupy arrays\n",
    "    pts1 = cp.array(pts1) if not isinstance(pts1, cp.ndarray) else pts1\n",
    "    pts2 = cp.array(pts2) if not isinstance(pts2, cp.ndarray) else pts2\n",
    "    \n",
    "    # Return an empty array for no points\n",
    "    if pts1.size == 0 or pts2.size == 0:\n",
    "        return cp.array([])\n",
    "    \n",
    "    # Ensure all points are non-negative\n",
    "    pts1 = cp.clip(pts1, 0, None)\n",
    "    pts2 = cp.clip(pts2, 0, None)\n",
    "    \n",
    "    # Ensure pts1 and pts2 are 2D arrays\n",
    "    if len(pts1.shape) == 1:\n",
    "        pts1 = cp.expand_dims(pts1, axis=0)\n",
    "    if len(pts2.shape) == 1:\n",
    "        pts2 = cp.expand_dims(pts2, axis=0)\n",
    "\n",
    "    # If the size of pts1 and pts2 are not the same, pad the smaller array with zeros\n",
    "    if pts1.shape[0] < pts2.shape[0]:\n",
    "        pts1 = cp.vstack((pts1, cp.zeros((pts2.shape[0] - pts1.shape[0], pts1.shape[1]))))\n",
    "    elif pts1.shape[0] > pts2.shape[0]:\n",
    "        pts2 = cp.vstack((pts2, cp.zeros((pts1.shape[0] - pts2.shape[0], pts2.shape[1]))))\n",
    "    \n",
    "    # Calculate distance matrix\n",
    "    diff_x = pts1[:, cp.newaxis, 0] - pts2[cp.newaxis, :, 0]\n",
    "    diff_y = pts1[:, cp.newaxis, 1] - pts2[cp.newaxis, :, 1]\n",
    "    dist_matrix = diff_x**2 + diff_y**2\n",
    "    \n",
    "    return dist_matrix"
   ]
  },
  {
   "cell_type": "markdown",
   "metadata": {},
   "source": [
    "Unit test"
   ]
  },
  {
   "cell_type": "code",
   "execution_count": 5,
   "metadata": {},
   "outputs": [
    {
     "name": "stdout",
     "output_type": "stream",
     "text": [
      "[[ 0.  2.  8. 18.]\n",
      " [ 2.  0.  2.  8.]\n",
      " [ 8.  2.  0.  2.]\n",
      " [ 0.  2.  8. 18.]]\n"
     ]
    }
   ],
   "source": [
    "pts1 = cp.array([[-1, -1], [1, 1], [2, 2]])       # horizontal axis\n",
    "pts2 = cp.array([[0, 0], [1, 1], [2, 2], [3, 3]]) # vertical axis\n",
    "\n",
    "# Corrected test cases for distance_pts_batched_matrix function\n",
    "matrix = distance_pts_batched_matrix(pts1, pts2)\n",
    "\n",
    "# Expected output\n",
    "#         (0, 0) (1, 1) (2, 2) (3, 3) <- pts2\n",
    "# (-1, -1) 2     1      8      18  <-- horizontal array, elements are clipped to zero because of negative values\n",
    "# (1, 1)   2     0      2      8\n",
    "# (2, 2)   8     2      0      2\n",
    "# (0, 0)   0     2      8      18  <-- horizontal array, elements are padded with zeros because of size mismatch\n",
    "# pts1\n",
    "\n",
    "print(matrix)"
   ]
  },
  {
   "cell_type": "markdown",
   "metadata": {},
   "source": [
    "# 2. 追跡と検出"
   ]
  },
  {
   "cell_type": "code",
   "execution_count": 17,
   "metadata": {},
   "outputs": [],
   "source": [
    "def associate_detections_to_trackers_gpu(detected_boxes, tracking_boxes, dist_variance=500):\n",
    "\n",
    "    # Ensure detected_bboxes and tracking_pts are cupy arrays\n",
    "    detected_boxes = cp.array(detected_boxes) if not isinstance(detected_boxes, cp.ndarray) else detected_boxes\n",
    "    tracking_boxes = cp.array(tracking_boxes) if not isinstance(tracking_boxes, cp.ndarray) else tracking_boxes\n",
    "\n",
    "    if detected_boxes.size == 0:\n",
    "        return [], [], list(range(len(tracking_boxes)))\n",
    "    \n",
    "    if tracking_boxes.size == 0:\n",
    "        return [], list(range(len(detected_boxes))), []\n",
    "\n",
    "    # Convert detected_bboxes to center points\n",
    "    # Input shape: (num_detections, 4)\n",
    "    # Output shape: (num_detections, 2)\n",
    "    detected_centers = center_pt_batched(detected_boxes)\n",
    "\n",
    "    # Convert tracking_boxes to center points\n",
    "    # Input shape: (num_trackers, 4)\n",
    "    # Output shape: (num_trackers, 2)\n",
    "    tracking_centers = center_pt_batched(tracking_boxes)\n",
    "\n",
    "    # Generate distance variance matrix\n",
    "    # Input shape of detected_centers: (num_detections, 2)\n",
    "    # Input shape of tracking_pts: (num_trackers, 2)\n",
    "    # Output shape: (num_detections, num_trackers)\n",
    "    dist_matrix = distance_pts_batched_matrix(detected_centers, tracking_centers)\n",
    "\n",
    "    # Convert the CuPy array to a NumPy array before passing it to linear_sum_assignment\n",
    "    row_ind, col_ind = linear_sum_assignment(dist_matrix.get())\n",
    "    # row_ind is the index of the detected_centers\n",
    "    # col_ind is the index of the tracking_pts\n",
    "\n",
    "    # Debugging\n",
    "    # print(row_ind, col_ind)\n",
    "\n",
    "    matched_pairs = []\n",
    "    untracked_detections = []\n",
    "    untracked_trackers = []\n",
    "\n",
    "    # Iterate through the row and column indices to find the matched pairs\n",
    "    for i, j in zip(row_ind, col_ind):\n",
    "        # If i or j is padded with zeros, skip the pair\n",
    "        if i >= detected_centers.shape[0] or j >= tracking_centers.shape[0]:\n",
    "            continue\n",
    "\n",
    "        # Check if the distance between the detected center and the tracking point is less than the distance variance\n",
    "        if dist_matrix[i, j] <= dist_variance:\n",
    "            matched_pairs.append((i, j))\n",
    "        else:\n",
    "            untracked_detections.append(i)\n",
    "            untracked_trackers.append(j)\n",
    "\n",
    "    # Find the unmatched detections by checking if the index is in matched_pairs\n",
    "    untracked_detections += [i for i in range(detected_centers.shape[0]) if i not in [pair[0] for pair in matched_pairs]]\n",
    "\n",
    "    # Find the unmatched trackers by checking if the index is in matched_pairs\n",
    "    untracked_trackers += [j for j in range(tracking_centers.shape[0]) if j not in [pair[1] for pair in matched_pairs]]\n",
    "    \n",
    "    return matched_pairs, untracked_detections, untracked_trackers\n"
   ]
  },
  {
   "cell_type": "markdown",
   "metadata": {},
   "source": [
    "Unit test"
   ]
  },
  {
   "cell_type": "code",
   "execution_count": 18,
   "metadata": {},
   "outputs": [
    {
     "name": "stdout",
     "output_type": "stream",
     "text": [
      "([(0, 1), (1, 0), (2, 3), (4, 2)], [3], [])\n",
      "([(0, 3), (1, 4)], [], [0, 1, 2])\n"
     ]
    }
   ],
   "source": [
    "# horizontal axis > vertical axis\n",
    "detected_boxes = [[0, 0, 10, 10], [-5, -5, 5, 5], [10, 10, 20, 20], [0, 0, 0, 0], [1, 1, 15, 15]] # horizontal axis\n",
    "tracking_boxes = [[1, 1, 1, 1], [2, 2, 2, 2], [3, 3, 3, 3], [4, 4, 4, 4]] # vertical axis\n",
    "print(associate_detections_to_trackers_gpu(detected_boxes, tracking_boxes))\n",
    "\n",
    "# horizontal axis < vertical axis\n",
    "detected_boxes = [[0, 0, 10, 10], [1, 1, 15, 15]] # horizontal axis\n",
    "tracking_boxes = [[1, 1, 1, 1], [2, 2, 2, 2], [3, 3, 3, 3], [4, 4, 4, 4], [10, 10, 20, 20]] # vertical axis\n",
    "print(associate_detections_to_trackers_gpu(detected_boxes, tracking_boxes))"
   ]
  },
  {
   "cell_type": "markdown",
   "metadata": {},
   "source": [
    "# 3. Kalman Filter"
   ]
  },
  {
   "cell_type": "code",
   "execution_count": 12,
   "metadata": {},
   "outputs": [],
   "source": [
    "class KalmanFilter:\n",
    "    def __init__(self, A, B, H, Q, R, x0, P0):\n",
    "        self.A = cp.asarray(A)\n",
    "        self.B = cp.asarray(B)\n",
    "        self.H = cp.asarray(H)\n",
    "        self.Q = cp.asarray(Q)\n",
    "        self.R = cp.asarray(R)\n",
    "        self.x = cp.asarray(x0)\n",
    "        self.P = cp.asarray(P0)\n",
    "\n",
    "    def predict(self, u=None):\n",
    "        if u is None:\n",
    "            u = cp.zeros((self.B.shape[1], 1))\n",
    "        self.x = self.A @ self.x + self.B @ u\n",
    "        self.P = self.A @ self.P @ self.A.T + self.Q\n",
    "\n",
    "    def update(self, z):\n",
    "        z = cp.asarray(z)\n",
    "        y = z - self.H @ self.x\n",
    "        S = self.H @ self.P @ self.H.T + self.R\n",
    "        K = self.P @ self.H.T @ cp.asarray(inv(cp.asnumpy(S)))\n",
    "        self.x = self.x + K @ y\n",
    "        self.P = self.P - K @ self.H @ self.P\n",
    "\n",
    "    def get_state(self):\n",
    "        return cp.asnumpy(self.x)"
   ]
  },
  {
   "cell_type": "markdown",
   "metadata": {},
   "source": [
    "# 4. 追跡クラス"
   ]
  },
  {
   "cell_type": "code",
   "execution_count": 19,
   "metadata": {},
   "outputs": [],
   "source": [
    "class Tracker:\n",
    "\n",
    "    \"\"\"\n",
    "    カルマンフィルタを付けている追跡クラス\n",
    "\n",
    "    Args:\n",
    "        kalman (KalmanFilter): カルマンフィルタ\n",
    "        pts_to_track (int, optional): 同時に追跡する点の数. Defaultsは1個\n",
    "        max (int, optional): 追跡の歴史の最大数. Defaultsは100回\n",
    "    \"\"\"\n",
    "\n",
    "    def __init__(self, kalman, pts_to_track=1, max=100) -> None:\n",
    "        self.history = []\n",
    "        self.max = max\n",
    "        self.kalman = kalman\n",
    "        self.pts_to_track = pts_to_track\n",
    "\n",
    "\n",
    "    def to_cupy(self, alignment=False):\n",
    "        if not alignment:\n",
    "            return cp.array(self.history)\n",
    "        else:\n",
    "            ndata = cp.array(self.history)\n",
    "\n",
    "            # 歴史の数が最大数よりも少ない場合、ゼロで埋める\n",
    "            if ndata.shape[0] < self.max:\n",
    "                ndata = cp.vstack([cp.zeros((self.max - ndata.shape[0], ndata.shape[1])), ndata])\n",
    "\n",
    "            return ndata\n",
    "\n",
    "\n",
    "    def predict(self, position):\n",
    "\n",
    "        # 添加新的位置到历史记录中\n",
    "        if len(self.history) >= self.max:\n",
    "            self.history.pop(0)\n",
    "            self.history.append(position)\n",
    "\n",
    "        # 更新卡尔曼滤波器，预测下一个位置\n",
    "        for pos in self.history:\n",
    "            self.kalman.predict()\n",
    "            self.kalman.update(pos)\n",
    "\n",
    "        # 获得最近预测的位置\n",
    "        return self.kalman.get_state()\n",
    "\n",
    "    @property\n",
    "    def last_position(self):\n",
    "        return self.history[-1]\n",
    "\n",
    "    def get(self,index):\n",
    "        return self.history[index]"
   ]
  },
  {
   "cell_type": "code",
   "execution_count": 21,
   "metadata": {},
   "outputs": [
    {
     "name": "stdout",
     "output_type": "stream",
     "text": [
      "[[0]\n",
      " [0]]\n",
      "[[0]\n",
      " [0]]\n",
      "[[0]\n",
      " [0]]\n",
      "[[0]\n",
      " [0]]\n",
      "[[0]\n",
      " [0]]\n",
      "[[0]\n",
      " [0]]\n",
      "[]\n"
     ]
    }
   ],
   "source": [
    "# テスト\n",
    "\n",
    "# カルマンフィルタの初期化\n",
    "A = cp.array([[1, 0], [0, 1]])\n",
    "B = cp.array([[0, 0], [0, 0]])\n",
    "H = cp.array([[1, 0], [0, 1]])\n",
    "Q = cp.array([[1, 0], [0, 1]])\n",
    "R = cp.array([[1, 0], [0, 1]])\n",
    "x0 = cp.array([[0], [0]])\n",
    "P0 = cp.array([[1, 0], [0, 1]])\n",
    "\n",
    "kalman = KalmanFilter(A, B, H, Q, R, x0, P0)\n",
    "\n",
    "# 追跡の初期化\n",
    "tracker = Tracker(kalman, pts_to_track=2, max=5)\n",
    "\n",
    "# 追跡のテスト\n",
    "print(tracker.predict(cp.array([[1], [1]])))\n",
    "print(tracker.predict(cp.array([[2], [2]])))\n",
    "print(tracker.predict(cp.array([[3], [3]])))\n",
    "print(tracker.predict(cp.array([[4], [4]])))\n",
    "print(tracker.predict(cp.array([[5], [5]])))\n",
    "print(tracker.predict(cp.array([[6], [6]])))\n",
    "\n",
    "print(tracker.to_cupy())\n",
    "      "
   ]
  },
  {
   "cell_type": "code",
   "execution_count": null,
   "metadata": {},
   "outputs": [],
   "source": [
    "\n",
    "class Sort:\n",
    "\n",
    "    \"\"\"\n",
    "    kalman_filter_class: Kalman filter class to use\n",
    "    max_age: Maximum time to keep a track alive without an update\n",
    "    variance_threshold: Maximum distance between a detection and a track to consider it as a match\n",
    "    max_depth: the number of records to keep in the tracker, used for kalman filter\n",
    "    kalman_filter_params: Parameters to pass to the Kalman filter\n",
    "    \"\"\"\n",
    "\n",
    "    def __init__(self, kalman_filter_class, max_age=1, variance_threshold=500, max_depth=100, kalman_filter_params=None):\n",
    "        self.kalman_filter_class = kalman_filter_class\n",
    "        self.max_age = max_age\n",
    "        self.variance_threshold = variance_threshold\n",
    "        self.trackers = []\n",
    "        self.max_depth = max_depth\n",
    "\n",
    "        if kalman_filter_params is not None:\n",
    "            self.kalman_filter_params = kalman_filter_params\n",
    "        else:\n",
    "            self.kalman_filter_params = {\n",
    "                \"A\": cp.array([[1, 0, 1, 0], [0, 1, 0, 1], [0, 0, 1, 0], [0, 0, 0, 1]]),\n",
    "                \"B\": cp.zeros((4, 1)),\n",
    "                \"H\": cp.array([[1, 0, 0, 0], [0, 1, 0, 0]]),\n",
    "                \"Q\": cp.eye(4) * 0.01,\n",
    "                \"R\": cp.eye(2) * 1,\n",
    "                \"x0\": cp.zeros((4, 1)),\n",
    "                \"P0\": cp.eye(4)\n",
    "            }\n",
    "\n",
    "    @property\n",
    "    def centered_trackers(self):\n",
    "        \"\"\"\n",
    "        将跟踪的边界框全部转换为中心点\n",
    "        \"\"\"\n",
    "        trackers = cp.array(self.trackers)\n",
    "        return center_pt_batched(trackers)\n",
    "    \n",
    "    @property\n",
    "    def last_updated_centered_trackers(self):\n",
    "        \"\"\"\n",
    "        获取最后更新的跟踪器的中心点\n",
    "        \"\"\"\n",
    "        trackers = cp.array([tracker[-1] for tracker in self.trackers])\n",
    "        return center_pt_batched(trackers)\n",
    "    \n",
    "\n",
    "    def update(self, detected_bboxes):\n",
    "\n",
    "        # Shape of tracker (batch, points, xy) \n",
    "        # batch is the number of trackers\n",
    "        # points is the number of points in each tracker\n",
    "        # xy is the x and y coordinates of the points\n",
    "        # If the tracker is not empty, and the shape of the tracker is not empty\n",
    "        # Use the track_objects_batch function to get the updated tracker\n",
    "        if self.trackers is not None and len(self.trackers) > 0:\n",
    "            predicted = track_objects_batch(self.kalman_filter_class,\n",
    "                                            self.centered_trackers, \n",
    "                                            **self.kalman_filter_params)\n",
    "\n",
    "            # The output of the predicted is (batch, points, xyaxay)\n",
    "            # ax is the acceleration in the x direction\n",
    "            # ay is the acceleration in the y direction\n",
    "\n",
    "            # From the predicted output, get the last updated x and y coordinates\n",
    "            predicted = predicted[:, -1, :4]\n",
    "            # The output of the predicted is (batch, xy)\n",
    "\n",
    "            # Use the associate_detections_to_trackers_gpu function to get the matched pairs\n",
    "            matched_pairs, unmatched_detections, unmatched_trackers = associate_detections_to_trackers_gpu(detected_bboxes, predicted, self.variance_threshold)\n",
    "\n",
    "            # Iterate through the matched pairs\n",
    "            for det_idx, trk_idx in matched_pairs:\n",
    "                # Convert the detected_bboxes\n",
    "                self.trackers[trk_idx].append(detected_bboxes[det_idx])"
   ]
  }
 ],
 "metadata": {
  "kernelspec": {
   "display_name": "aigc",
   "language": "python",
   "name": "python3"
  },
  "language_info": {
   "codemirror_mode": {
    "name": "ipython",
    "version": 3
   },
   "file_extension": ".py",
   "mimetype": "text/x-python",
   "name": "python",
   "nbconvert_exporter": "python",
   "pygments_lexer": "ipython3",
   "version": "3.10.13"
  }
 },
 "nbformat": 4,
 "nbformat_minor": 2
}
