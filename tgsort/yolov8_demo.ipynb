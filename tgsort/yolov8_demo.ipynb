{
 "cells": [
  {
   "cell_type": "code",
   "execution_count": 1,
   "id": "initial_id",
   "metadata": {
    "ExecuteTime": {
     "end_time": "2024-06-13T07:19:29.268722Z",
     "start_time": "2024-06-13T07:19:28.936801Z"
    },
    "collapsed": true
   },
   "outputs": [],
   "source": [
    "from ultralytics import YOLO\n",
    "import cv2\n",
    "import os\n",
    "import numpy as np"
   ]
  },
  {
   "cell_type": "markdown",
   "id": "729114d8",
   "metadata": {},
   "source": [
    "# 1. 对于YOLOv8的极大值抑制"
   ]
  },
  {
   "cell_type": "code",
   "execution_count": 2,
   "id": "859dab10",
   "metadata": {},
   "outputs": [],
   "source": [
    "# NMS function\n",
    "def non_max_suppression(boxes, conf_thresh=0.5, iou_thresh=0.4):\n",
    "    # Filter out boxes with low confidence scores\n",
    "    boxes = [box for box in boxes if box[4] > conf_thresh]\n",
    "\n",
    "    if len(boxes) == 0:\n",
    "        return []\n",
    "\n",
    "    boxes = np.array(boxes)\n",
    "    x1 = boxes[:, 0]\n",
    "    y1 = boxes[:, 1]\n",
    "    x2 = boxes[:, 2]\n",
    "    y2 = boxes[:, 3]\n",
    "    scores = boxes[:, 4]\n",
    "\n",
    "    # Calculate area of the boxes\n",
    "    areas = (x2 - x1 + 1) * (y2 - y1 + 1)\n",
    "    order = scores.argsort()[::-1]\n",
    "\n",
    "    keep = []\n",
    "    while order.size > 0:\n",
    "        i = order[0]\n",
    "        keep.append(i)\n",
    "        xx1 = np.maximum(x1[i], x1[order[1:]])\n",
    "        yy1 = np.maximum(y1[i], y1[order[1:]])\n",
    "        xx2 = np.minimum(x2[i], x2[order[1:]])\n",
    "        yy2 = np.minimum(y2[i], y2[order[1:]])\n",
    "\n",
    "        w = np.maximum(0, xx2 - xx1 + 1)\n",
    "        h = np.maximum(0, yy2 - yy1 + 1)\n",
    "        inter = w * h\n",
    "        iou = inter / (areas[i] + areas[order[1:]] - inter)\n",
    "\n",
    "        inds = np.where(iou <= iou_thresh)[0]\n",
    "        order = order[inds + 1]\n",
    "\n",
    "    return boxes[keep]"
   ]
  },
  {
   "cell_type": "markdown",
   "id": "f6af954e",
   "metadata": {},
   "source": [
    "# 2. 主要的测试程序部分"
   ]
  },
  {
   "cell_type": "code",
   "execution_count": 4,
   "id": "108f57ea",
   "metadata": {
    "ExecuteTime": {
     "end_time": "2024-06-13T07:20:32.606823Z",
     "start_time": "2024-06-13T07:20:30.888585Z"
    }
   },
   "outputs": [],
   "source": [
    "# MOT15数据集类别\n",
    "MOT15_BASE_DIR = r'C:\\Users\\data\\Documents\\MOT15\\MOT15\\train\\ADL-Rundle-8\\img1'\n",
    "\n",
    "# 加载YOLO模型\n",
    "yolo = YOLO('yolov8s.pt')\n",
    "\n",
    "# Load images from the dataset\n",
    "images = [img_path for img_path in os.listdir(MOT15_BASE_DIR) if img_path.endswith('.jpg')]\n",
    "\n",
    "# Define COCO classes\n",
    "CLASSES = ['person', 'bicycle', 'car', 'motorbike', 'aeroplane', 'bus', 'train', 'truck', 'boat', 'traffic light',\n",
    "              'fire hydrant', 'stop sign', 'parking meter', 'bench', 'bird', 'cat', 'dog', 'horse', 'sheep', 'cow',\n",
    "              'elephant', 'bear', 'zebra', 'giraffe', 'backpack', 'umbrella', 'handbag', 'tie', 'suitcase', 'frisbee',\n",
    "              'skis', 'snowboard', 'sports ball', 'kite', 'baseball bat', 'baseball glove', 'skateboard', 'surfboard',\n",
    "              'tennis racket', 'bottle', 'wine glass', 'cup', 'fork', 'knife', 'spoon', 'bowl', 'banana', 'apple',\n",
    "              'sandwich', 'orange', 'broccoli', 'carrot', 'hot dog', 'pizza', 'donut', 'cake', 'chair', 'sofa',\n",
    "              'pottedplant', 'bed', 'diningtable', 'toilet', 'tvmonitor', 'laptop', 'mouse', 'remote', 'keyboard',\n",
    "              'cell phone', 'microwave', 'oven', 'toaster', 'sink', 'refrigerator', 'book', 'clock', 'vase', 'scissors',\n",
    "              'teddy bear', 'hair drier', 'toothbrush']\n",
    "\n",
    "# Show testing images\n",
    "for img_path in images:\n",
    "\n",
    "    # Read image\n",
    "    img = cv2.imread(os.path.join(MOT15_BASE_DIR, img_path))\n",
    "   \n",
    "    # Perform detection, and silence the output\n",
    "    detections = yolo(img, verbose=False)\n",
    "\n",
    "    # Process results list\n",
    "    for result in detections:\n",
    "        boxes = result.boxes  # Boxes object for bounding box outputs\n",
    "        boxes_data = []\n",
    "\n",
    "        for box in boxes:\n",
    "            data = box.data.cpu().numpy().reshape(-1)\n",
    "            x1 = int(data[0])\n",
    "            y1 = int(data[1])\n",
    "            x2 = int(data[2])\n",
    "            y2 = int(data[3])\n",
    "            conf = float(data[4])\n",
    "            cls = int(data[5])\n",
    "            boxes_data.append([x1, y1, x2, y2, conf, cls])\n",
    "\n",
    "        # NMS\n",
    "        nms_boxes = non_max_suppression(boxes_data, conf_thresh=0.5, iou_thresh=0.5)\n",
    "\n",
    "        # Draw bounding boxes\n",
    "        for box in nms_boxes:\n",
    "            x1, y1, x2, y2, conf, cls = box\n",
    "\n",
    "            # Convert to integers\n",
    "            x1, y1, x2, y2, cls = int(x1), int(y1), int(x2), int(y2), int(cls)\n",
    "\n",
    "            # Draw bounding box\n",
    "            cv2.rectangle(img, (x1, y1), (x2, y2), (0, 255, 0), 2)\n",
    "\n",
    "            # Draw confidence\n",
    "            cv2.putText(img, f'{conf:.2f}', (x1, y1 - 10), cv2.FONT_HERSHEY_SIMPLEX, 0.5, (0, 255, 0), 2)\n",
    "\n",
    "            # Draw class\n",
    "            cv2.putText(img, f'{CLASSES[cls]}', (x1, y1 - 30), cv2.FONT_HERSHEY_SIMPLEX, 0.5, (0, 255, 0), 2)\n",
    "\n",
    "    # Resize the image to 800x600\n",
    "    img = cv2.resize(img, (800, 600))\n",
    "\n",
    "    # Display the image\n",
    "    cv2.imshow('Image', img)\n",
    "    if cv2.waitKey(1) & 0xFF == ord('q'):\n",
    "        break\n",
    "\n",
    "cv2.destroyAllWindows()"
   ]
  }
 ],
 "metadata": {
  "kernelspec": {
   "display_name": "Python 3",
   "language": "python",
   "name": "python3"
  },
  "language_info": {
   "codemirror_mode": {
    "name": "ipython",
    "version": 3
   },
   "file_extension": ".py",
   "mimetype": "text/x-python",
   "name": "python",
   "nbconvert_exporter": "python",
   "pygments_lexer": "ipython3",
   "version": "3.10.13"
  }
 },
 "nbformat": 4,
 "nbformat_minor": 5
}
