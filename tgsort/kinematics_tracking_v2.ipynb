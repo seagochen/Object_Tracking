{
 "cells": [
  {
   "cell_type": "code",
   "execution_count": 1,
   "metadata": {},
   "outputs": [
    {
     "name": "stderr",
     "output_type": "stream",
     "text": [
      "C:\\Users\\data\\AppData\\Local\\Temp\\ipykernel_15592\\2758445751.py:4: DeprecationWarning: The module numpy.dual is deprecated.  Instead of using dual, use the functions directly from numpy or scipy.\n",
      "  from numpy.dual import inv\n"
     ]
    }
   ],
   "source": [
    "import cupy as cp\n",
    "from scipy.optimize import linear_sum_assignment\n",
    "from datetime import time\n",
    "from numpy.dual import inv"
   ]
  },
  {
   "cell_type": "markdown",
   "metadata": {},
   "source": [
    "# 1. 中心点の計算"
   ]
  },
  {
   "cell_type": "code",
   "execution_count": 2,
   "metadata": {},
   "outputs": [],
   "source": [
    "def center_pt_batched(bboxes):\n",
    "    # Ensure bboxes is a cupy array\n",
    "    bboxes = cp.array(bboxes) if not isinstance(bboxes, cp.ndarray) else bboxes\n",
    "    \n",
    "    # Return an empty array for no bboxes\n",
    "    if bboxes.size == 0:\n",
    "        return cp.array([])\n",
    "    \n",
    "    # Ensure all points are non-negative\n",
    "    bboxes = cp.clip(bboxes, 0, None)\n",
    "\n",
    "    # If the bbox is a single box, convert it to a 2D array\n",
    "    if len(bboxes.shape) == 1:\n",
    "        bboxes = cp.expand_dims(bboxes, axis=0)\n",
    "    \n",
    "    # Calculate center points\n",
    "    centers_x = (bboxes[:, 0] + bboxes[:, 2]) / 2\n",
    "    centers_y = (bboxes[:, 1] + bboxes[:, 3]) / 2\n",
    "    \n",
    "    # Combine x and y centers into a single array\n",
    "    centers = cp.stack((centers_x, centers_y), axis=-1)\n",
    "    \n",
    "    return centers"
   ]
  },
  {
   "cell_type": "markdown",
   "metadata": {},
   "source": [
    "Unit test"
   ]
  },
  {
   "cell_type": "code",
   "execution_count": 3,
   "metadata": {},
   "outputs": [
    {
     "name": "stdout",
     "output_type": "stream",
     "text": [
      "All tests passed\n"
     ]
    }
   ],
   "source": [
    "# Corrected test cases for center_pt_batched function\n",
    "assert cp.array_equal(center_pt_batched(cp.array([[0, 0, 10, 10]])), cp.array([[5, 5]])), \"Test 1 failed\"\n",
    "assert cp.array_equal(center_pt_batched(cp.array([[-5, -5, 5, 5]])), cp.array([[2.5, 2.5]])), \"Test 2 failed\"\n",
    "assert cp.array_equal(center_pt_batched(cp.array([[0, 0, 0, 0]])), cp.array([[0, 0]])), \"Test 3 failed\"\n",
    "assert cp.array_equal(center_pt_batched(cp.array([[10, 10, 20, 20]])), cp.array([[15, 15]])), \"Test 4 failed\"\n",
    "\n",
    "assert cp.array_equal(center_pt_batched(cp.array([[0, 0, 10, 10], [-5, -5, 5, 5]])), cp.array([[5, 5], [2.5, 2.5]])), \"Test 5 failed\"\n",
    "assert cp.array_equal(center_pt_batched([0, 0, 10, 10]), cp.array([[5, 5]])), \"Test 6 failed\"\n",
    "\n",
    "print(\"All tests passed\")"
   ]
  },
  {
   "cell_type": "markdown",
   "metadata": {},
   "source": [
    "# 2.二点間の距離の測定"
   ]
  },
  {
   "cell_type": "code",
   "execution_count": 4,
   "metadata": {},
   "outputs": [],
   "source": [
    "def distance_pts_batched_matrix(pts1, pts2):\n",
    "    # Ensure pts1 and pts2 are cupy arrays\n",
    "    pts1 = cp.array(pts1) if not isinstance(pts1, cp.ndarray) else pts1\n",
    "    pts2 = cp.array(pts2) if not isinstance(pts2, cp.ndarray) else pts2\n",
    "    \n",
    "    # Return an empty array for no points\n",
    "    if pts1.size == 0 or pts2.size == 0:\n",
    "        return cp.array([])\n",
    "    \n",
    "    # Ensure all points are non-negative\n",
    "    pts1 = cp.clip(pts1, 0, None)\n",
    "    pts2 = cp.clip(pts2, 0, None)\n",
    "    \n",
    "    # Ensure pts1 and pts2 are 2D arrays\n",
    "    if len(pts1.shape) == 1:\n",
    "        pts1 = cp.expand_dims(pts1, axis=0)\n",
    "    if len(pts2.shape) == 1:\n",
    "        pts2 = cp.expand_dims(pts2, axis=0)\n",
    "\n",
    "    # If the size of pts1 and pts2 are not the same, pad the smaller array with zeros\n",
    "    if pts1.shape[0] < pts2.shape[0]:\n",
    "        pts1 = cp.vstack((pts1, cp.zeros((pts2.shape[0] - pts1.shape[0], pts1.shape[1]))))\n",
    "    elif pts1.shape[0] > pts2.shape[0]:\n",
    "        pts2 = cp.vstack((pts2, cp.zeros((pts1.shape[0] - pts2.shape[0], pts2.shape[1]))))\n",
    "    \n",
    "    # Calculate distance matrix\n",
    "    diff_x = pts1[:, cp.newaxis, 0] - pts2[cp.newaxis, :, 0]\n",
    "    diff_y = pts1[:, cp.newaxis, 1] - pts2[cp.newaxis, :, 1]\n",
    "    dist_matrix = diff_x**2 + diff_y**2\n",
    "    \n",
    "    return dist_matrix"
   ]
  },
  {
   "cell_type": "markdown",
   "metadata": {},
   "source": [
    "Unit test"
   ]
  },
  {
   "cell_type": "code",
   "execution_count": 5,
   "metadata": {},
   "outputs": [
    {
     "name": "stdout",
     "output_type": "stream",
     "text": [
      "[[ 0.  2.  8. 18.]\n",
      " [ 2.  0.  2.  8.]\n",
      " [ 8.  2.  0.  2.]\n",
      " [ 0.  2.  8. 18.]]\n"
     ]
    }
   ],
   "source": [
    "pts1 = cp.array([[-1, -1], [1, 1], [2, 2]])       # horizontal axis\n",
    "pts2 = cp.array([[0, 0], [1, 1], [2, 2], [3, 3]]) # vertical axis\n",
    "\n",
    "# Corrected test cases for distance_pts_batched_matrix function\n",
    "matrix = distance_pts_batched_matrix(pts1, pts2)\n",
    "\n",
    "# Expected output\n",
    "#         (0, 0) (1, 1) (2, 2) (3, 3) <- pts2\n",
    "# (-1, -1) 2     1      8      18  <-- horizontal array, elements are clipped to zero because of negative values\n",
    "# (1, 1)   2     0      2      8\n",
    "# (2, 2)   8     2      0      2\n",
    "# (0, 0)   0     2      8      18  <-- horizontal array, elements are padded with zeros because of size mismatch\n",
    "# pts1\n",
    "\n",
    "print(matrix)"
   ]
  },
  {
   "cell_type": "markdown",
   "metadata": {},
   "source": [
    "# 2. 追跡と検出"
   ]
  },
  {
   "cell_type": "code",
   "execution_count": 6,
   "metadata": {},
   "outputs": [],
   "source": [
    "def associate_detections_to_trackers_gpu(detected_bboxes, tracking_pts, dist_variance=500):\n",
    "\n",
    "    # Ensure detected_bboxes and tracking_pts are cupy arrays\n",
    "    detected_bboxes = cp.array(detected_bboxes) if not isinstance(detected_bboxes, cp.ndarray) else detected_bboxes\n",
    "    tracking_pts = cp.array(tracking_pts) if not isinstance(tracking_pts, cp.ndarray) else tracking_pts\n",
    "\n",
    "    if detected_bboxes.size == 0:\n",
    "        return [], [], list(range(len(tracking_pts)))\n",
    "    \n",
    "    if tracking_pts.size == 0:\n",
    "        return [], list(range(len(detected_bboxes))), []\n",
    "\n",
    "    # Convert detected_bboxes to center points\n",
    "    # Input shape: (num_detections, 4)\n",
    "    # Output shape: (num_detections, 2)\n",
    "    detected_centers = center_pt_batched(detected_bboxes)\n",
    "\n",
    "    # Generate distance variance matrix\n",
    "    # Input shape of detected_centers: (num_detections, 2)\n",
    "    # Input shape of tracking_pts: (num_trackers, 2)\n",
    "    # Output shape: (num_detections, num_trackers)\n",
    "    dist_matrix = distance_pts_batched_matrix(detected_centers, tracking_pts)\n",
    "\n",
    "    # Convert the CuPy array to a NumPy array before passing it to linear_sum_assignment\n",
    "    row_ind, col_ind = linear_sum_assignment(dist_matrix.get())\n",
    "    # row_ind is the index of the detected_centers\n",
    "    # col_ind is the index of the tracking_pts\n",
    "\n",
    "    # Debugging\n",
    "    # print(row_ind, col_ind)\n",
    "\n",
    "    matched_pairs = []\n",
    "    untracked_detections = []\n",
    "    untracked_trackers = []\n",
    "\n",
    "    # Iterate through the row and column indices to find the matched pairs\n",
    "    for i, j in zip(row_ind, col_ind):\n",
    "        # If i or j is padded with zeros, skip the pair\n",
    "        if i >= detected_centers.shape[0] or j >= tracking_pts.shape[0]:\n",
    "            continue\n",
    "\n",
    "        # Check if the distance between the detected center and the tracking point is less than the distance variance\n",
    "        if dist_matrix[i, j] <= dist_variance:\n",
    "            matched_pairs.append((i, j))\n",
    "        else:\n",
    "            untracked_detections.append(i)\n",
    "            untracked_trackers.append(j)\n",
    "\n",
    "    # Find the unmatched detections by checking if the index is in matched_pairs\n",
    "    untracked_detections += [i for i in range(detected_centers.shape[0]) if i not in [pair[0] for pair in matched_pairs]]\n",
    "\n",
    "    # Find the unmatched trackers by checking if the index is in matched_pairs\n",
    "    untracked_trackers += [j for j in range(tracking_pts.shape[0]) if j not in [pair[1] for pair in matched_pairs]]\n",
    "    \n",
    "    return matched_pairs, untracked_detections, untracked_trackers\n"
   ]
  },
  {
   "cell_type": "markdown",
   "metadata": {},
   "source": [
    "Unit test"
   ]
  },
  {
   "cell_type": "code",
   "execution_count": 7,
   "metadata": {},
   "outputs": [
    {
     "name": "stdout",
     "output_type": "stream",
     "text": [
      "([(0, 0), (2, 2), (4, 1)], [1, 3], [])\n",
      "([(0, 2), (1, 3)], [], [0, 1])\n"
     ]
    }
   ],
   "source": [
    "# horizontal axis > vertical axis\n",
    "detected_bboxes = [[0, 0, 10, 10], [-5, -5, 5, 5], [10, 10, 20, 20], [0, 0, 0, 0], [1, 1, 15, 15]] # horizontal axis\n",
    "tracking_pts = [[1,1], [2,2], [3,3]] # vertical axis\n",
    "print(associate_detections_to_trackers_gpu(detected_bboxes, tracking_pts))\n",
    "\n",
    "# horizontal axis < vertical axis\n",
    "detected_bboxes = [[0, 0, 10, 10], [1, 1, 15, 15]] # horizontal axis\n",
    "tracking_pts = [[1,1], [2,2], [3,3], [4,4]] # vertical axis\n",
    "print(associate_detections_to_trackers_gpu(detected_bboxes, tracking_pts))"
   ]
  },
  {
   "cell_type": "markdown",
   "metadata": {},
   "source": [
    "# 3. Kalman Filter"
   ]
  },
  {
   "cell_type": "code",
   "execution_count": 8,
   "metadata": {},
   "outputs": [],
   "source": [
    "class KalmanFilter:\n",
    "    def __init__(self, A, B, H, Q, R, x0, P0):\n",
    "        self.A = cp.asarray(A)\n",
    "        self.B = cp.asarray(B)\n",
    "        self.H = cp.asarray(H)\n",
    "        self.Q = cp.asarray(Q)\n",
    "        self.R = cp.asarray(R)\n",
    "        self.x = cp.asarray(x0)\n",
    "        self.P = cp.asarray(P0)\n",
    "\n",
    "        self.last_update_time = 0\n",
    "\n",
    "    def predict(self, u=None):\n",
    "        if u is None:\n",
    "            u = cp.zeros((self.B.shape[1], 1))\n",
    "        self.x = self.A @ self.x + self.B @ u\n",
    "        self.P = self.A @ self.P @ self.A.T + self.Q\n",
    "\n",
    "    def update(self, z):\n",
    "        z = cp.asarray(z)\n",
    "        y = z - self.H @ self.x\n",
    "        S = self.H @ self.P @ self.H.T + self.R\n",
    "        K = self.P @ self.H.T @ cp.asarray(inv(cp.asnumpy(S)))\n",
    "        self.x = self.x + K @ y\n",
    "        self.P = self.P - K @ self.H @ self.P\n",
    "\n",
    "        self.last_update_time = time.time()\n",
    "\n",
    "    def get_state(self):\n",
    "        return cp.asnumpy(self.x)"
   ]
  },
  {
   "cell_type": "markdown",
   "metadata": {},
   "source": [
    "# 4. カルマンフィルターを利用し、バッチ軌道予測"
   ]
  },
  {
   "cell_type": "code",
   "execution_count": null,
   "metadata": {},
   "outputs": [],
   "source": [
    "def track_objects_batch(kalman_filter_class, detections, A, B, H, Q, R, x0, P0):\n",
    "    kf_list = [kalman_filter_class(A, B, H, Q, R, x0, P0) for _ in range(detections.shape[1])]\n",
    "    results = []\n",
    "\n",
    "    for t in range(detections.shape[0]):\n",
    "        batch_results = []\n",
    "        for i, kf in enumerate(kf_list):\n",
    "            z = detections[t, i].reshape((2, 1))\n",
    "            kf.predict()\n",
    "            kf.update(z)\n",
    "            state = kf.get_state()\n",
    "            batch_results.append(state.ravel().tolist())\n",
    "        results.append(batch_results)\n",
    "\n",
    "    return cp.asarray(results)"
   ]
  },
  {
   "cell_type": "markdown",
   "metadata": {},
   "source": [
    "# 4. 追跡クラス"
   ]
  },
  {
   "cell_type": "code",
   "execution_count": null,
   "metadata": {},
   "outputs": [],
   "source": [
    "class Sort:\n",
    "\n",
    "    \"\"\"\n",
    "    kalman_filter_class: Kalman filter class to use\n",
    "    max_age: Maximum time to keep a track alive without an update\n",
    "\n",
    "    \"\"\"\n",
    "\n",
    "    def __init__(self, kalman_filter_class, max_age=1, variance_threshold=500, kalman_filter_params=None):\n",
    "        self.kalman_filter_class = kalman_filter_class\n",
    "        self.max_age = max_age\n",
    "        self.variance_threshold = variance_threshold\n",
    "        self.trackers = []\n",
    "\n",
    "        if kalman_filter_params is not None:\n",
    "            self.kalman_filter_params = kalman_filter_params\n",
    "        else:\n",
    "            self.kalman_filter_params = {\n",
    "                'A': cp.eye(4),\n",
    "                'B': cp.zeros((4, 2)),\n",
    "                'H': cp.eye(4),\n",
    "                'Q': cp.eye(4) * 0.1,\n",
    "                'R': cp.eye(4) * 0.1,\n",
    "                'x0': cp.zeros((4, 1)),\n",
    "                'P0': cp.eye(4)\n",
    "            }\n",
    "\n",
    "    def update(self, detected_bboxes):\n",
    "        for tracker in self.trackers:\n",
    "            tracker.predict()\n",
    "\n",
    "        trks = cp.zeros((len(self.trackers), 5))\n",
    "        to_del = []\n",
    "        for t, tracker in enumerate(trks):\n",
    "            pos = self.trackers[t].get_state().flatten()\n",
    "            trks[t, :] = [pos[0], pos[1], pos[2], pos[3], 0]\n",
    "            if cp.any(cp.isnan(pos)):\n",
    "                to_del.append(t)\n",
    "        trks = cp.compress_rows(cp.masked_invalid(trks))\n",
    "        for t in reversed(to_del):\n",
    "            self.trackers.pop(t)\n",
    "\n",
    "        matched, unmatched_detections, unmatched_trackers = associate_detections_to_trackers_gpu(detections, trks, self.iou_threshold)\n",
    "\n",
    "        for m in matched:\n",
    "            self.trackers[m[1]].update(detections[m[0], :])\n",
    "\n",
    "        for i in unmatched_detections:\n",
    "            kf = self.kalman_filter_class(**self.kalman_filter_params)\n",
    "            kf.update(detections[i, :])\n",
    "            self.trackers.append(kf)\n",
    "\n",
    "        for trk in reversed(self.trackers):\n",
    "            if (trk.last_update_time > self.max_age):\n",
    "                self.trackers.pop(len(self.trackers) - 1)\n",
    "\n",
    "        ret = []\n",
    "        for trk in self.trackers:\n",
    "            if trk.hits >= self.min_hits or self.frame_count <= self.min_hits:\n",
    "                ret.append(cp.concatenate((trk.get_state()[0], [trk.id + 1])).reshape(1, -1))\n",
    "        if len(ret) > 0:\n",
    "            return cp.concatenate(ret)\n",
    "        return cp.empty((0, 5))\n"
   ]
  }
 ],
 "metadata": {
  "kernelspec": {
   "display_name": "aigc",
   "language": "python",
   "name": "python3"
  },
  "language_info": {
   "codemirror_mode": {
    "name": "ipython",
    "version": 3
   },
   "file_extension": ".py",
   "mimetype": "text/x-python",
   "name": "python",
   "nbconvert_exporter": "python",
   "pygments_lexer": "ipython3",
   "version": "3.10.13"
  }
 },
 "nbformat": 4,
 "nbformat_minor": 2
}
